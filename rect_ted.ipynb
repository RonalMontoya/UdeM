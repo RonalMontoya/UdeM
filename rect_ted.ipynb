{
 "cells": [
  {
   "cell_type": "code",
   "execution_count": 45,
   "metadata": {},
   "outputs": [
    {
     "data": {
      "text/plain": [
       "'\\nCopyright (C) 2017 Free Software Foundation\\n\\nThis file is part of GNU Radio\\n\\nGNU Radio is free software; you can redistribute it and/or modify\\nit under the terms of the GNU General Public License as published by\\nthe Free Software Foundation; either version 3, or (at your option)\\nany later version.\\n\\nGNU Radio is distributed in the hope that it will be useful,\\nbut WITHOUT ANY WARRANTY; without even the implied warranty of\\nMERCHANTABILITY or FITNESS FOR A PARTICULAR PURPOSE.  See the\\nGNU General Public License for more details.\\n\\nYou should have received a copy of the GNU General Public License\\nalong with GNU Radio; see the file COPYING.  If not, write to\\nthe Free Software Foundation, Inc., 51 Franklin Street,\\nBoston, MA 02110-1301, USA.\\n\\nGNU Octave script to accompany the GNURadio flowgraph:\\n\\n    gnuradio/gr-digital/examples/demod/symbol_sync_test_float.grc\\n\\nto simulate the Mueller and Muller and Gardner timing error detectors\\nand compute Expected TED gains applicable to the situation in that\\nflowgraph.\\n'"
      ]
     },
     "execution_count": 45,
     "metadata": {},
     "output_type": "execute_result"
    }
   ],
   "source": [
    "\"\"\"\n",
    "Copyright (C) 2017 Free Software Foundation\n",
    "\n",
    "This file is part of GNU Radio\n",
    "\n",
    "GNU Radio is free software; you can redistribute it and/or modify\n",
    "it under the terms of the GNU General Public License as published by\n",
    "the Free Software Foundation; either version 3, or (at your option)\n",
    "any later version.\n",
    "\n",
    "GNU Radio is distributed in the hope that it will be useful,\n",
    "but WITHOUT ANY WARRANTY; without even the implied warranty of\n",
    "MERCHANTABILITY or FITNESS FOR A PARTICULAR PURPOSE.  See the\n",
    "GNU General Public License for more details.\n",
    "\n",
    "You should have received a copy of the GNU General Public License\n",
    "along with GNU Radio; see the file COPYING.  If not, write to\n",
    "the Free Software Foundation, Inc., 51 Franklin Street,\n",
    "Boston, MA 02110-1301, USA.\n",
    "\n",
    "GNU Octave script to accompany the GNURadio flowgraph:\n",
    "\n",
    "    gnuradio/gr-digital/examples/demod/symbol_sync_test_float.grc\n",
    "\n",
    "to simulate the Mueller and Muller and Gardner timing error detectors\n",
    "and compute Expected TED gains applicable to the situation in that\n",
    "flowgraph.\n",
    "\"\"\""
   ]
  },
  {
   "cell_type": "code",
   "execution_count": 1,
   "metadata": {},
   "outputs": [],
   "source": [
    "import numpy as np\n",
    "import scipy.signal as sig\n",
    "import matplotlib.pyplot as plt"
   ]
  },
  {
   "cell_type": "code",
   "execution_count": 47,
   "metadata": {},
   "outputs": [],
   "source": [
    "def rrc_filter(N, beta):\n",
    "# Impulse response of the root rise cosine filter given the number of samples\n",
    "# Inputs:\n",
    "# beta: roll-off factor\n",
    "# p: time samples of the filter\n",
    "# num_samples: number of samples, must be a even number\n",
    "# T_samples: number of samples per signal period\n",
    "    \n",
    "    Ts = 1\n",
    "    t = (1/Ts)*np.linspace(-Ts/np.sqrt(1+beta/2), Ts/np.sqrt(1+beta/2), N)\n",
    "    p = np.zeros(len(t));\n",
    "    for i in np.arange(len(t)):\n",
    "        p[i] = (4*beta/(np.pi*np.sqrt(Ts)))*(np.cos((1+beta)*np.pi*t[i]/Ts) +\n",
    "                np.sin((1-beta)*np.pi*t[i]/Ts)/(4*beta*t[i]/Ts))/(1-(4*beta*t[i]/Ts)**2)\n",
    "        \n",
    "    t_0 = 0\n",
    "    t_0 = [i for i in range(len(t)) if t[i] == 0.0] \n",
    "    if (t_0 != 0):\n",
    "        p[t_0] = (4*beta/(np.pi*np.sqrt(Ts)))*(1 + (1-beta)*np.pi/(4*beta))\n",
    "\n",
    "    t_1 = Ts/(4*beta)\n",
    "    t_1p = 0\n",
    "    t_1m = 0\n",
    "    t_1p =  [i for i in range(len(t)) if t[i] == t_1]\n",
    "    t_1m = [i for i in range(len(t)) if t[i] == -t_1]\n",
    "    if (t_1p != 0):\n",
    "        p[t_1p] = (beta/np.sqrt(2*Ts))*((1+2/np.pi)*np.sin(np.pi/(4*beta)) +\n",
    "                                        (1-2/np.pi)*np.cos(np.pi/(4*beta)))\n",
    "        p[t_1m] = (beta/np.sqrt(2*Ts))*((1+2/np.pi)*np.sin(np.pi/(4*beta)) +\n",
    "                                        (1-2/np.pi)*np.cos(np.pi/(4*beta)))\n",
    "      \n",
    "    p = p - np.amin(p)\n",
    "    # Guarantizes normalized energy\n",
    "    p = p/np.sum(p)\n",
    "\n",
    "    return np.resize(p, (100,1))"
   ]
  },
  {
   "cell_type": "code",
   "execution_count": 48,
   "metadata": {},
   "outputs": [],
   "source": [
    "# Define some constants\n",
    "# Number of bits used for timing error analysis\n",
    "N_bits = 30000              \n",
    "Rb = 1200\n",
    "bits_per_sym = 1\n",
    "baud_rate = Rb/bits_per_sym\n",
    "# Number of symbols used for timing error analysis\n",
    "N_syms = N_bits/bits_per_sym \n",
    "# samples/symbol used for timing error analysis\n",
    "tea_sps = 100\n",
    "# sample rate used for timing error analysis             \n",
    "tea_Fs = tea_sps * baud_rate\n",
    "# actual samples per symbol used in application\n",
    "a_sps = 6.66667\n",
    "# actual sample rate used in application           \n",
    "a_Fs = a_sps * baud_rate\n",
    "# Roll-off factor for the root-raised-cosine prototype filter\n",
    "beta = 0.35"
   ]
  },
  {
   "cell_type": "code",
   "execution_count": 49,
   "metadata": {},
   "outputs": [],
   "source": [
    "# Select which one prototype filter to calculate TED, 0 = rectangular, whatever = root-raised-cosine\n",
    "selection = 1"
   ]
  },
  {
   "cell_type": "code",
   "execution_count": 50,
   "metadata": {},
   "outputs": [],
   "source": [
    "# Create prototype filter impulse response, must be rectangular or root-raised-cosine\n",
    "\n",
    "if selection == 0:\n",
    "    pf_taps = 1/tea_sps * np.ones((tea_sps, 1))\n",
    "else:\n",
    "    pf_taps = rrc_filter(tea_sps, beta)\n",
    "    \n",
    "pf_len = len(pf_taps)\n",
    "pf_delay = pf_len/2"
   ]
  },
  {
   "cell_type": "code",
   "execution_count": 51,
   "metadata": {},
   "outputs": [
    {
     "data": {
      "image/png": "[encoded data removed]",
      "text/plain": [
       "<Figure size 432x288 with 1 Axes>"
      ]
     },
     "metadata": {
      "needs_background": "light"
     },
     "output_type": "display_data"
    }
   ],
   "source": [
    "# Show impulse response of the prototype filter\n",
    "plt.figure(1)\n",
    "plt.plot(pf_taps, 'b+')\n",
    "plt.title('Prototype filter impulse response')\n",
    "plt.xlabel('Samples')\n",
    "plt.ylabel('Amplitude')\n",
    "plt.show()"
   ]
  },
  {
   "cell_type": "code",
   "execution_count": 52,
   "metadata": {},
   "outputs": [],
   "source": [
    "# Generate some bits\n",
    "bits = np.random.randint(0, 2, N_bits)\n",
    "# Convert the bits to NRZ symbols in [-1, 1]\n",
    "symbols = 2*bits-1;"
   ]
  },
  {
   "cell_type": "code",
   "execution_count": 53,
   "metadata": {},
   "outputs": [],
   "source": [
    "# Convert symbols to baseband pulses\n",
    "h = np.zeros((tea_sps, 1))\n",
    "h[2] = 1\n",
    "x = tea_sps * sig.upfirdn(h[:,0], symbols, tea_sps, 1)\n",
    "baseband = sig.convolve(pf_taps[:, 0], x)"
   ]
  },
  {
   "cell_type": "code",
   "execution_count": 54,
   "metadata": {},
   "outputs": [],
   "source": [
    "# Create rectangular matched filter, that's a little too long (7 sps vs\n",
    "# 6.667 sps) to introduce more ISI\n",
    "# Play with isi samples to see S-curve effects\n",
    "\n",
    "isi_sps = round((tea_sps/a_sps * 7) - tea_sps)\n",
    "\n",
    "if (np.mod(isi_sps, 2) != 0):\n",
    "    isi_sps = isi_sps + 1\n",
    "    \n",
    "if selection == 0:\n",
    "    mf_taps = 1/(tea_sps+isi_sps) * np.ones((tea_sps+isi_sps, 1))\n",
    "else:\n",
    "    mf_taps = rrc_filter(tea_sps+isi_sps, beta)\n",
    "    \n",
    "mf_len = len(mf_taps)\n",
    "mf_delay = mf_len/2"
   ]
  },
  {
   "cell_type": "code",
   "execution_count": 55,
   "metadata": {},
   "outputs": [],
   "source": [
    "# Matched filter the received baseband pulses\n",
    "mf_baseband = sig.convolve(mf_taps[:, 0], baseband)\n",
    "# Play with amplitude to see S-curve effects\n",
    "mf_baseband = mf_baseband * 1.0"
   ]
  },
  {
   "cell_type": "code",
   "execution_count": 56,
   "metadata": {},
   "outputs": [],
   "source": [
    "# Symbol centers are now at indices n*tea_sps + isi_sps/2 (I think!)\n",
    "# Symbol clock period is tea_sps samples\n",
    "# Symbol peaks are perfectly at +/-1.0\n",
    "\n",
    "# Timing offset granularity is in 1/tea_sps-th of a symbol\n",
    "tau = np.arange(-tea_sps/2, tea_sps/2 - 1, 1)\n",
    "tau_norm = tau/tea_sps*a_sps"
   ]
  },
  {
   "cell_type": "code",
   "execution_count": 57,
   "metadata": {},
   "outputs": [],
   "source": [
    "# M&M TED. Constellation points at -1.0 and +1.0.\n",
    "# Gardener TED.\n",
    "# Perfect estimate of symbol clock period.\n",
    "# No external noise.\n",
    "mm_ted_output = np.zeros((int(N_syms-2), len(tau)))\n",
    "ga_ted_output = np.zeros((int(N_syms-2), len(tau)))\n",
    "# For each known symbol peak set (M&M needs prev and current symbol)\n",
    "for i in np.arange(N_syms - 3).astype(int):\n",
    "    # Cycle through all the timing offsets around this symbol\n",
    "    # using a perfect symbol clock period estimate\n",
    "    opt_prev_idx = int((i-1)*tea_sps + isi_sps/2)\n",
    "    opt_curr_idx = int(i*tea_sps + isi_sps/2)\n",
    "    for j in np.arange(len(tau)).astype(int):\n",
    "        prev_soft_sym = mf_baseband[opt_prev_idx - int(tau[j])]\n",
    "        mid_soft_samp = mf_baseband[int((opt_curr_idx + opt_prev_idx)/2 - tau[j])]\n",
    "        curr_soft_sym = mf_baseband[opt_curr_idx - int(tau[j])]\n",
    "        \n",
    "        if (prev_soft_sym >= 0):\n",
    "            prev_decision = 1\n",
    "        else:\n",
    "            prev_decision = -1\n",
    "\n",
    "        if (curr_soft_sym >= 0):\n",
    "            curr_decision = 1\n",
    "        else:\n",
    "            curr_decision = -1\n",
    "\n",
    "        mm_ted_output[i,j] = prev_decision * curr_soft_sym - curr_decision * prev_soft_sym\n",
    "        ga_ted_output[i,j] = (prev_soft_sym - curr_soft_sym) * mid_soft_samp\n",
    "\n",
    "mean_mm_ted_output = np.mean(mm_ted_output, 0)\n",
    "mean_ga_ted_output = np.mean(ga_ted_output, 0)"
   ]
  },
  {
   "cell_type": "code",
   "execution_count": 58,
   "metadata": {},
   "outputs": [
    {
     "data": {
      "image/png": "[encoded data removed]",
      "text/plain": [
       "<Figure size 432x288 with 1 Axes>"
      ]
     },
     "metadata": {
      "needs_background": "light"
     },
     "output_type": "display_data"
    }
   ],
   "source": [
    "# Plot the S-Curves\n",
    "plt.figure(2)\n",
    "plt.plot(tau_norm, mean_mm_ted_output, 'b-', tau_norm, mean_ga_ted_output, 'r+')\n",
    "plt.title(r'S-Curve, 6.6667 samples/symbol, rectangular pulses, imperfect MF, $E_s/N_0 = \\infty$')\n",
    "plt.xlabel(r'Timing error from symbol center, $\\tau_\\epsilon$ (samples)')\n",
    "plt.ylabel(r'Expected value of TED output, $E(e[n] | \\tau_\\epsilon)$')\n",
    "plt.legend(('M&M TED', 'Gardner TED'))\n",
    "plt.show()"
   ]
  },
  {
   "cell_type": "code",
   "execution_count": 59,
   "metadata": {},
   "outputs": [
    {
     "data": {
      "image/png": "[encoded data removed]",
      "text/plain": [
       "<Figure size 432x288 with 1 Axes>"
      ]
     },
     "metadata": {
      "needs_background": "light"
     },
     "output_type": "display_data"
    }
   ],
   "source": [
    "# Plot the TED gains\n",
    "plt.figure(3)\n",
    "tau_diff = tau[0 : -1] + 0.5 # \n",
    "tau_diff_norm = tau_diff/tea_sps*a_sps\n",
    "diff_mm_ted_output = np.diff(mean_mm_ted_output)/(a_sps/tea_sps)\n",
    "diff_ga_ted_output = np.diff(mean_ga_ted_output)/(a_sps/tea_sps)\n",
    "plt.plot(tau_diff_norm, diff_mm_ted_output , 'b-', tau_diff_norm, diff_ga_ted_output , 'r+')\n",
    "plt.title(r'TED gain, 6.6667 samples/symbol, rectangular pulses, imperfect MF, $E_s/N_0 = \\infty$')\n",
    "plt.xlabel(r'Timing error from symbol center, $\\tau_\\epsilon$ (samples)')\n",
    "plt.ylabel(r'TED gain, slope of $E(e[n] | \\tau_\\epsilon)$, ($samples^{-1}$)')\n",
    "plt.legend(('M&M TED', 'Gardner TED'))\n",
    "plt.show()"
   ]
  },
  {
   "cell_type": "code",
   "execution_count": 60,
   "metadata": {},
   "outputs": [
    {
     "name": "stdout",
     "output_type": "stream",
     "text": [
      "M&M TED gain =  0.0004096506301699937\n",
      "Gardner TED gain =  0.7714314820067096\n"
     ]
    }
   ],
   "source": [
    "# Print out the central TED gains\n",
    "k = len(diff_mm_ted_output)\n",
    "mm_ted_gain = np.mean(diff_mm_ted_output[int((k-1)/2):int((k-1)/2+1)])\n",
    "print('M&M TED gain = ', mm_ted_gain)\n",
    "k = len(diff_ga_ted_output)\n",
    "ga_ted_gain = np.mean(diff_ga_ted_output[int((k-1)/2):int((k-1)/2+1)])\n",
    "print('Gardner TED gain = ', ga_ted_gain)"
   ]
  }
 ],
 "metadata": {
  "kernelspec": {
   "display_name": "Python 3",
   "language": "python",
   "name": "python3"
  },
  "language_info": {
   "codemirror_mode": {
    "name": "ipython",
    "version": 3
   },
   "file_extension": ".py",
   "mimetype": "text/x-python",
   "name": "python",
   "nbconvert_exporter": "python",
   "pygments_lexer": "ipython3",
   "version": "3.7.7"
  }
 },
 "nbformat": 4,
 "nbformat_minor": 4
}
